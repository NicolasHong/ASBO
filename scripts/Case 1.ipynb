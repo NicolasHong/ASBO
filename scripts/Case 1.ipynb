{
 "cells": [
  {
   "cell_type": "code",
   "execution_count": 1,
   "id": "3b49956b",
   "metadata": {
    "execution": {
     "iopub.execute_input": "2024-10-21T14:26:21.435097Z",
     "iopub.status.busy": "2024-10-21T14:26:21.435097Z",
     "iopub.status.idle": "2024-10-21T14:26:21.486970Z",
     "shell.execute_reply": "2024-10-21T14:26:21.485971Z"
    },
    "papermill": {
     "duration": 0.061326,
     "end_time": "2024-10-21T14:26:21.487966",
     "exception": false,
     "start_time": "2024-10-21T14:26:21.426640",
     "status": "completed"
    },
    "tags": []
   },
   "outputs": [],
   "source": [
    "%load_ext autoreload\n",
    "%autoreload 2"
   ]
  },
  {
   "cell_type": "code",
   "execution_count": 2,
   "id": "38461544",
   "metadata": {
    "execution": {
     "iopub.execute_input": "2024-10-21T14:26:21.502586Z",
     "iopub.status.busy": "2024-10-21T14:26:21.502586Z",
     "iopub.status.idle": "2024-10-21T14:26:21.542299Z",
     "shell.execute_reply": "2024-10-21T14:26:21.541301Z"
    },
    "papermill": {
     "duration": 0.051723,
     "end_time": "2024-10-21T14:26:21.547287",
     "exception": false,
     "start_time": "2024-10-21T14:26:21.495564",
     "status": "completed"
    },
    "tags": []
   },
   "outputs": [],
   "source": [
    "import sys\n",
    "from pathlib import Path\n",
    "BASE_DIR = Path().absolute().parent\n",
    "sys.path.append(str(BASE_DIR))"
   ]
  },
  {
   "cell_type": "code",
   "execution_count": 5,
   "id": "769425ef",
   "metadata": {
    "execution": {
     "iopub.execute_input": "2024-10-21T14:26:21.570260Z",
     "iopub.status.busy": "2024-10-21T14:26:21.569226Z",
     "iopub.status.idle": "2024-10-21T14:26:22.878673Z",
     "shell.execute_reply": "2024-10-21T14:26:22.877674Z"
    },
    "papermill": {
     "duration": 1.324407,
     "end_time": "2024-10-21T14:26:22.881666",
     "exception": false,
     "start_time": "2024-10-21T14:26:21.557259",
     "status": "completed"
    },
    "tags": []
   },
   "outputs": [],
   "source": [
    "from bayes_opt_adaptive  import BayesianOptimization\n",
    "from bayes_opt_adaptive import UtilityFunction\n",
    "from scipy.optimize import minimize, NonlinearConstraint, Bounds, SR1\n",
    "from bayes_opt_adaptive.logger import JSONLogger\n",
    "from bayes_opt_adaptive.event import Events\n",
    "from bayes_opt_adaptive.util import load_logs\n",
    "from cases import Case1,Case2,Case3\n",
    "import numpy as np\n",
    "import pandas as pd"
   ]
  },
  {
   "cell_type": "code",
   "execution_count": 9,
   "id": "022f3a40",
   "metadata": {
    "execution": {
     "iopub.execute_input": "2024-10-21T14:26:22.894144Z",
     "iopub.status.busy": "2024-10-21T14:26:22.894144Z",
     "iopub.status.idle": "2024-10-21T14:26:22.947324Z",
     "shell.execute_reply": "2024-10-21T14:26:22.946328Z"
    },
    "papermill": {
     "duration": 0.061671,
     "end_time": "2024-10-21T14:26:22.948322",
     "exception": false,
     "start_time": "2024-10-21T14:26:22.886651",
     "status": "completed"
    },
    "tags": []
   },
   "outputs": [
    {
     "data": {
      "text/plain": [
       "WindowsPath('d:/OneDrive/Current/2_Codes/BO_Related/ASBO/ASBO/scripts_res')"
      ]
     },
     "execution_count": 9,
     "metadata": {},
     "output_type": "execute_result"
    }
   ],
   "source": [
    "DIR = BASE_DIR/'scripts_res'\n",
    "DIR"
   ]
  },
  {
   "cell_type": "markdown",
   "id": "8490c335",
   "metadata": {
    "papermill": {
     "duration": 0.003981,
     "end_time": "2024-10-21T14:26:22.957297",
     "exception": false,
     "start_time": "2024-10-21T14:26:22.953316",
     "status": "completed"
    },
    "tags": []
   },
   "source": [
    "### ASBO"
   ]
  },
  {
   "cell_type": "code",
   "execution_count": 7,
   "id": "c8964631",
   "metadata": {
    "execution": {
     "iopub.execute_input": "2024-10-21T14:26:22.959216Z",
     "iopub.status.busy": "2024-10-21T14:26:22.959216Z",
     "iopub.status.idle": "2024-10-21T14:26:23.006292Z",
     "shell.execute_reply": "2024-10-21T14:26:23.005292Z"
    },
    "papermill": {
     "duration": 0.049856,
     "end_time": "2024-10-21T14:26:23.009072",
     "exception": false,
     "start_time": "2024-10-21T14:26:22.959216",
     "status": "completed"
    },
    "tags": []
   },
   "outputs": [],
   "source": [
    "re_run = True\n",
    "re_run_save = True"
   ]
  },
  {
   "cell_type": "code",
   "execution_count": 10,
   "id": "29a88190",
   "metadata": {
    "execution": {
     "iopub.execute_input": "2024-10-21T14:26:23.021082Z",
     "iopub.status.busy": "2024-10-21T14:26:23.020039Z",
     "iopub.status.idle": "2024-10-21T14:26:23.423253Z",
     "shell.execute_reply": "2024-10-21T14:26:23.423172Z"
    },
    "papermill": {
     "duration": 0.410195,
     "end_time": "2024-10-21T14:26:23.424252",
     "exception": true,
     "start_time": "2024-10-21T14:26:23.014057",
     "status": "failed"
    },
    "tags": []
   },
   "outputs": [
    {
     "name": "stderr",
     "output_type": "stream",
     "text": [
      "e:\\ProgramData\\miniconda3\\envs\\ASBO\\lib\\site-packages\\scipy\\optimize\\_optimize.py:353: RuntimeWarning: Values in x were outside bounds during a minimize step, clipping to bounds\n",
      "  warnings.warn(\"Values in x were outside bounds during a \"\n"
     ]
    },
    {
     "name": "stdout",
     "output_type": "stream",
     "text": [
      "{'target': -2.3269307027986507e-06, 'params': {'x1': -4.020306908294415, 'x2': -6.021089227928202}, 'constraint': array([-12.98047541,  -6.97870459, -75.37209556])}\n"
     ]
    }
   ],
   "source": [
    "sol = 'ASBO'\n",
    "case_name = 'Case1'\n",
    "runs_number = 1\n",
    "\n",
    "obj_list = []\n",
    "x_1_list = []\n",
    "x_2_list = []\n",
    "con_1_list  = []\n",
    "con_2_list  = []\n",
    "con_3_list  = []\n",
    "\n",
    "def func(x1,x2):\n",
    "    x = np.array([x1,x2])\n",
    "    obj, c1, c2, c3 = Case1(x)\n",
    "    cons = [c1,c2,c3]\n",
    "    return -obj,cons\n",
    "\n",
    "nc_lb = np.array([-1e6,-1e6,-1e6])\n",
    "nc_ub = np.array([0,0,0])\n",
    "cons = NonlinearConstraint(func, nc_lb, nc_ub)\n",
    "pbounds = {'x1': (-10, 5),'x2': (-15, 15)}\n",
    "acquisition_function = UtilityFunction(kind=\"ucb\", kappa=2.5, xi=0, kappa_decay=1, kappa_decay_delay=0)\n",
    "\n",
    "if re_run == True or re_run_save == True:\n",
    "    for i in range(runs_number):\n",
    "        optimizer = BayesianOptimization(f=func, pbounds=pbounds,constraint=cons,verbose=0,random_state=i)\n",
    "        optimizer.maximize(init_points=50, n_iter=10,p_hyper=[[5, 2, 0.78, 0.95,1e-5]],acquisition_function=acquisition_function)\n",
    "        print(optimizer.max)\n",
    "        obj_list.extend([optimizer.max['target']])\n",
    "        x_1_list.extend([optimizer.max['params']['x1']])\n",
    "        x_2_list.extend([optimizer.max['params']['x2']])\n",
    "        con_1_list.extend([optimizer.max['constraint'][0]])\n",
    "        con_2_list.extend([optimizer.max['constraint'][1]])\n",
    "        con_3_list.extend([optimizer.max['constraint'][2]])\n",
    "        df = pd.DataFrame({\n",
    "        'obj': obj_list,\n",
    "        'x_1': x_1_list,\n",
    "        'x_2': x_2_list,\n",
    "        'con_1': con_1_list,\n",
    "        'con_2': con_2_list,\n",
    "        'con_3': con_3_list\n",
    "        })\n",
    "        if re_run_save == True:\n",
    "            df.to_csv(DIR/f'{sol}_Results_{case_name}_{runs_number}.csv', index=False)\n"
   ]
  },
  {
   "cell_type": "code",
   "execution_count": 11,
   "id": "5f4f754c",
   "metadata": {
    "papermill": {
     "duration": null,
     "end_time": null,
     "exception": null,
     "start_time": null,
     "status": "pending"
    },
    "tags": []
   },
   "outputs": [
    {
     "name": "stdout",
     "output_type": "stream",
     "text": [
      "NaN count in column 'obj': 0\n"
     ]
    },
    {
     "data": {
      "text/html": [
       "<div>\n",
       "<style scoped>\n",
       "    .dataframe tbody tr th:only-of-type {\n",
       "        vertical-align: middle;\n",
       "    }\n",
       "\n",
       "    .dataframe tbody tr th {\n",
       "        vertical-align: top;\n",
       "    }\n",
       "\n",
       "    .dataframe thead th {\n",
       "        text-align: right;\n",
       "    }\n",
       "</style>\n",
       "<table border=\"1\" class=\"dataframe\">\n",
       "  <thead>\n",
       "    <tr style=\"text-align: right;\">\n",
       "      <th></th>\n",
       "      <th>obj</th>\n",
       "      <th>x_1</th>\n",
       "      <th>x_2</th>\n",
       "      <th>con_1</th>\n",
       "      <th>con_2</th>\n",
       "      <th>con_3</th>\n",
       "    </tr>\n",
       "  </thead>\n",
       "  <tbody>\n",
       "    <tr>\n",
       "      <th>count</th>\n",
       "      <td>1.000000</td>\n",
       "      <td>1.000000</td>\n",
       "      <td>1.000000</td>\n",
       "      <td>1.000000</td>\n",
       "      <td>1.000000</td>\n",
       "      <td>1.000000</td>\n",
       "    </tr>\n",
       "    <tr>\n",
       "      <th>mean</th>\n",
       "      <td>-0.000002</td>\n",
       "      <td>-4.020307</td>\n",
       "      <td>-6.021089</td>\n",
       "      <td>-12.980475</td>\n",
       "      <td>-6.978705</td>\n",
       "      <td>-75.372096</td>\n",
       "    </tr>\n",
       "    <tr>\n",
       "      <th>std</th>\n",
       "      <td>NaN</td>\n",
       "      <td>NaN</td>\n",
       "      <td>NaN</td>\n",
       "      <td>NaN</td>\n",
       "      <td>NaN</td>\n",
       "      <td>NaN</td>\n",
       "    </tr>\n",
       "    <tr>\n",
       "      <th>min</th>\n",
       "      <td>-0.000002</td>\n",
       "      <td>-4.020307</td>\n",
       "      <td>-6.021089</td>\n",
       "      <td>-12.980475</td>\n",
       "      <td>-6.978705</td>\n",
       "      <td>-75.372096</td>\n",
       "    </tr>\n",
       "    <tr>\n",
       "      <th>25%</th>\n",
       "      <td>-0.000002</td>\n",
       "      <td>-4.020307</td>\n",
       "      <td>-6.021089</td>\n",
       "      <td>-12.980475</td>\n",
       "      <td>-6.978705</td>\n",
       "      <td>-75.372096</td>\n",
       "    </tr>\n",
       "    <tr>\n",
       "      <th>50%</th>\n",
       "      <td>-0.000002</td>\n",
       "      <td>-4.020307</td>\n",
       "      <td>-6.021089</td>\n",
       "      <td>-12.980475</td>\n",
       "      <td>-6.978705</td>\n",
       "      <td>-75.372096</td>\n",
       "    </tr>\n",
       "    <tr>\n",
       "      <th>75%</th>\n",
       "      <td>-0.000002</td>\n",
       "      <td>-4.020307</td>\n",
       "      <td>-6.021089</td>\n",
       "      <td>-12.980475</td>\n",
       "      <td>-6.978705</td>\n",
       "      <td>-75.372096</td>\n",
       "    </tr>\n",
       "    <tr>\n",
       "      <th>max</th>\n",
       "      <td>-0.000002</td>\n",
       "      <td>-4.020307</td>\n",
       "      <td>-6.021089</td>\n",
       "      <td>-12.980475</td>\n",
       "      <td>-6.978705</td>\n",
       "      <td>-75.372096</td>\n",
       "    </tr>\n",
       "  </tbody>\n",
       "</table>\n",
       "</div>"
      ],
      "text/plain": [
       "            obj       x_1       x_2      con_1     con_2      con_3\n",
       "count  1.000000  1.000000  1.000000   1.000000  1.000000   1.000000\n",
       "mean  -0.000002 -4.020307 -6.021089 -12.980475 -6.978705 -75.372096\n",
       "std         NaN       NaN       NaN        NaN       NaN        NaN\n",
       "min   -0.000002 -4.020307 -6.021089 -12.980475 -6.978705 -75.372096\n",
       "25%   -0.000002 -4.020307 -6.021089 -12.980475 -6.978705 -75.372096\n",
       "50%   -0.000002 -4.020307 -6.021089 -12.980475 -6.978705 -75.372096\n",
       "75%   -0.000002 -4.020307 -6.021089 -12.980475 -6.978705 -75.372096\n",
       "max   -0.000002 -4.020307 -6.021089 -12.980475 -6.978705 -75.372096"
      ]
     },
     "execution_count": 11,
     "metadata": {},
     "output_type": "execute_result"
    }
   ],
   "source": [
    "nan_count = df['obj'].isna().sum()\n",
    "print(f\"NaN count in column 'obj': {nan_count}\")\n",
    "df.describe()"
   ]
  },
  {
   "cell_type": "markdown",
   "id": "2ec9fe8e",
   "metadata": {
    "papermill": {
     "duration": null,
     "end_time": null,
     "exception": null,
     "start_time": null,
     "status": "pending"
    },
    "tags": []
   },
   "source": [
    "### trust-constr"
   ]
  },
  {
   "cell_type": "code",
   "execution_count": 12,
   "id": "9f2ec8bb",
   "metadata": {
    "papermill": {
     "duration": null,
     "end_time": null,
     "exception": null,
     "start_time": null,
     "status": "pending"
    },
    "tags": []
   },
   "outputs": [],
   "source": [
    "re_run = True\n",
    "re_run_save = True"
   ]
  },
  {
   "cell_type": "code",
   "execution_count": 13,
   "id": "964c7841",
   "metadata": {
    "papermill": {
     "duration": null,
     "end_time": null,
     "exception": null,
     "start_time": null,
     "status": "pending"
    },
    "tags": []
   },
   "outputs": [
    {
     "name": "stdout",
     "output_type": "stream",
     "text": [
      "obj =  1.6252162434839503e-11 , x =  [-3.99997541 -6.00011049]\n"
     ]
    },
    {
     "name": "stderr",
     "output_type": "stream",
     "text": [
      "C:\\Users\\Administrator\\AppData\\Local\\Temp\\ipykernel_11072\\1860626070.py:33: DeprecationWarning: Use of `minimize` with `x0.ndim != 1` is deprecated. Currently, singleton dimensions will be removed from `x0`, but an error will be raised in SciPy 1.11.0.\n",
      "  result = minimize(objective, x0,  method='trust-constr', bounds=bd,constraints=cons)\n"
     ]
    }
   ],
   "source": [
    "sol = 'trust-constr'\n",
    "list_realvalue = []\n",
    "case_name = 'Case1'\n",
    "runs_number = 1\n",
    "\n",
    "def func(x):\n",
    "    obj, c1, c2, c3 = Case1(x)\n",
    "    cons = [c1,c2,c3]\n",
    "    list_realvalue.extend([[obj]+cons])\n",
    "    return obj,c1,c2,c3\n",
    "\n",
    "initial_x1 = []\n",
    "initial_x2 = []\n",
    "x_1_list = []\n",
    "x_2_list = []\n",
    "obj_list = []\n",
    "con_1_list  = []\n",
    "con_2_list  = []\n",
    "con_3_list  = []\n",
    "\n",
    "nfev_r = []\n",
    "success_r = []\n",
    "message_r = []\n",
    "def recyc(x):\n",
    "    nc_lb = np.array([-1e6,-1e6,-1e6])\n",
    "    nc_ub = np.array([0,0,0])\n",
    "    cons = NonlinearConstraint(lambda x: func(x)[1:4], nc_lb, nc_ub, hess=SR1(), finite_diff_rel_step=0.001)\n",
    "    objective = lambda x: func(x)[0]\n",
    "    x0=x\n",
    "    lb = [-10,-15] \n",
    "    ub = [5,15] \n",
    "    bd = Bounds(lb, ub, True) \n",
    "    result = minimize(objective, x0,  method='trust-constr', bounds=bd,constraints=cons)\n",
    "    print('obj = ', result.fun, ', x = ', result.x)\n",
    "    obj_list.append(result.fun)\n",
    "    x_1_list.append(result.x[0])\n",
    "    x_2_list.append(result.x[1])\n",
    "    con_1_list.append(result.constr[0][0])\n",
    "    con_2_list.append(result.constr[0][1])\n",
    "    con_3_list.append(result.constr[0][2])    \n",
    "    initial_x1.append(x[0][0])  \n",
    "    initial_x2.append(x[0][1])  \n",
    "    nfev_r.append(result.nfev)\n",
    "    success_r.append(str(result.success))\n",
    "    message_r.append(result.message)\n",
    "    df = pd.DataFrame({\n",
    "        'obj': obj_list,\n",
    "        'x_1': x_1_list,\n",
    "        'x_2': x_2_list,\n",
    "        'con_1': con_1_list,\n",
    "        'con_2': con_2_list,\n",
    "        'con_3': con_3_list,\n",
    "        'initial_x1': initial_x1,\n",
    "        'initial_x2': initial_x2, \n",
    "        'nfev': nfev_r,\n",
    "        'success': success_r,\n",
    "        'message': message_r,\n",
    "        })    \n",
    "    if re_run_save == True:\n",
    "        df.to_csv(DIR/f'{sol}_Results_{case_name}_{runs_number}.csv', index=False)\n",
    "    return result.x\n",
    "\n",
    "def initial_random(lb=[-10,-15],ub=[5,15],a=2,n_size=runs_number):\n",
    "    bounds = np.array([lb,ub])\n",
    "    bounds = bounds.T\n",
    "    random_state = np.random.RandomState(a)\n",
    "    x_random = random_state.uniform(bounds[:, 0], bounds[:, 1],\n",
    "                                    size=(n_size, bounds.shape[0]))\n",
    "    return x_random\n",
    "\n",
    "if re_run == True or re_run_save == True:\n",
    "    x_random = initial_random(lb=[-10,-15],ub=[5,15])\n",
    "    from itertools import product\n",
    "    for combination in product(x_random):\n",
    "        recyc(combination)\n"
   ]
  },
  {
   "cell_type": "code",
   "execution_count": 14,
   "id": "d1b2620a",
   "metadata": {
    "papermill": {
     "duration": null,
     "end_time": null,
     "exception": null,
     "start_time": null,
     "status": "pending"
    },
    "tags": []
   },
   "outputs": [],
   "source": [
    "df = pd.read_csv(DIR/f'{sol}_Results_{case_name}_{runs_number}.csv')"
   ]
  },
  {
   "cell_type": "code",
   "execution_count": 15,
   "id": "8be0c514",
   "metadata": {
    "papermill": {
     "duration": null,
     "end_time": null,
     "exception": null,
     "start_time": null,
     "status": "pending"
    },
    "tags": []
   },
   "outputs": [
    {
     "name": "stdout",
     "output_type": "stream",
     "text": [
      "NaN count in column 'obj': 0\n"
     ]
    },
    {
     "data": {
      "text/html": [
       "<div>\n",
       "<style scoped>\n",
       "    .dataframe tbody tr th:only-of-type {\n",
       "        vertical-align: middle;\n",
       "    }\n",
       "\n",
       "    .dataframe tbody tr th {\n",
       "        vertical-align: top;\n",
       "    }\n",
       "\n",
       "    .dataframe thead th {\n",
       "        text-align: right;\n",
       "    }\n",
       "</style>\n",
       "<table border=\"1\" class=\"dataframe\">\n",
       "  <thead>\n",
       "    <tr style=\"text-align: right;\">\n",
       "      <th></th>\n",
       "      <th>obj</th>\n",
       "      <th>x_1</th>\n",
       "      <th>x_2</th>\n",
       "      <th>con_1</th>\n",
       "      <th>con_2</th>\n",
       "      <th>con_3</th>\n",
       "      <th>initial_x1</th>\n",
       "      <th>initial_x2</th>\n",
       "      <th>nfev</th>\n",
       "    </tr>\n",
       "  </thead>\n",
       "  <tbody>\n",
       "    <tr>\n",
       "      <th>count</th>\n",
       "      <td>1.000000e+00</td>\n",
       "      <td>1.000000</td>\n",
       "      <td>1.00000</td>\n",
       "      <td>1.00000</td>\n",
       "      <td>1.00000</td>\n",
       "      <td>1.000000</td>\n",
       "      <td>1.000000</td>\n",
       "      <td>1.000000</td>\n",
       "      <td>1.0</td>\n",
       "    </tr>\n",
       "    <tr>\n",
       "      <th>mean</th>\n",
       "      <td>1.625216e-11</td>\n",
       "      <td>-3.999975</td>\n",
       "      <td>-6.00011</td>\n",
       "      <td>-13.00016</td>\n",
       "      <td>-6.99989</td>\n",
       "      <td>-74.802573</td>\n",
       "      <td>-3.460076</td>\n",
       "      <td>-14.222213</td>\n",
       "      <td>198.0</td>\n",
       "    </tr>\n",
       "    <tr>\n",
       "      <th>std</th>\n",
       "      <td>NaN</td>\n",
       "      <td>NaN</td>\n",
       "      <td>NaN</td>\n",
       "      <td>NaN</td>\n",
       "      <td>NaN</td>\n",
       "      <td>NaN</td>\n",
       "      <td>NaN</td>\n",
       "      <td>NaN</td>\n",
       "      <td>NaN</td>\n",
       "    </tr>\n",
       "    <tr>\n",
       "      <th>min</th>\n",
       "      <td>1.625216e-11</td>\n",
       "      <td>-3.999975</td>\n",
       "      <td>-6.00011</td>\n",
       "      <td>-13.00016</td>\n",
       "      <td>-6.99989</td>\n",
       "      <td>-74.802573</td>\n",
       "      <td>-3.460076</td>\n",
       "      <td>-14.222213</td>\n",
       "      <td>198.0</td>\n",
       "    </tr>\n",
       "    <tr>\n",
       "      <th>25%</th>\n",
       "      <td>1.625216e-11</td>\n",
       "      <td>-3.999975</td>\n",
       "      <td>-6.00011</td>\n",
       "      <td>-13.00016</td>\n",
       "      <td>-6.99989</td>\n",
       "      <td>-74.802573</td>\n",
       "      <td>-3.460076</td>\n",
       "      <td>-14.222213</td>\n",
       "      <td>198.0</td>\n",
       "    </tr>\n",
       "    <tr>\n",
       "      <th>50%</th>\n",
       "      <td>1.625216e-11</td>\n",
       "      <td>-3.999975</td>\n",
       "      <td>-6.00011</td>\n",
       "      <td>-13.00016</td>\n",
       "      <td>-6.99989</td>\n",
       "      <td>-74.802573</td>\n",
       "      <td>-3.460076</td>\n",
       "      <td>-14.222213</td>\n",
       "      <td>198.0</td>\n",
       "    </tr>\n",
       "    <tr>\n",
       "      <th>75%</th>\n",
       "      <td>1.625216e-11</td>\n",
       "      <td>-3.999975</td>\n",
       "      <td>-6.00011</td>\n",
       "      <td>-13.00016</td>\n",
       "      <td>-6.99989</td>\n",
       "      <td>-74.802573</td>\n",
       "      <td>-3.460076</td>\n",
       "      <td>-14.222213</td>\n",
       "      <td>198.0</td>\n",
       "    </tr>\n",
       "    <tr>\n",
       "      <th>max</th>\n",
       "      <td>1.625216e-11</td>\n",
       "      <td>-3.999975</td>\n",
       "      <td>-6.00011</td>\n",
       "      <td>-13.00016</td>\n",
       "      <td>-6.99989</td>\n",
       "      <td>-74.802573</td>\n",
       "      <td>-3.460076</td>\n",
       "      <td>-14.222213</td>\n",
       "      <td>198.0</td>\n",
       "    </tr>\n",
       "  </tbody>\n",
       "</table>\n",
       "</div>"
      ],
      "text/plain": [
       "                obj       x_1      x_2     con_1    con_2      con_3  \\\n",
       "count  1.000000e+00  1.000000  1.00000   1.00000  1.00000   1.000000   \n",
       "mean   1.625216e-11 -3.999975 -6.00011 -13.00016 -6.99989 -74.802573   \n",
       "std             NaN       NaN      NaN       NaN      NaN        NaN   \n",
       "min    1.625216e-11 -3.999975 -6.00011 -13.00016 -6.99989 -74.802573   \n",
       "25%    1.625216e-11 -3.999975 -6.00011 -13.00016 -6.99989 -74.802573   \n",
       "50%    1.625216e-11 -3.999975 -6.00011 -13.00016 -6.99989 -74.802573   \n",
       "75%    1.625216e-11 -3.999975 -6.00011 -13.00016 -6.99989 -74.802573   \n",
       "max    1.625216e-11 -3.999975 -6.00011 -13.00016 -6.99989 -74.802573   \n",
       "\n",
       "       initial_x1  initial_x2   nfev  \n",
       "count    1.000000    1.000000    1.0  \n",
       "mean    -3.460076  -14.222213  198.0  \n",
       "std           NaN         NaN    NaN  \n",
       "min     -3.460076  -14.222213  198.0  \n",
       "25%     -3.460076  -14.222213  198.0  \n",
       "50%     -3.460076  -14.222213  198.0  \n",
       "75%     -3.460076  -14.222213  198.0  \n",
       "max     -3.460076  -14.222213  198.0  "
      ]
     },
     "execution_count": 15,
     "metadata": {},
     "output_type": "execute_result"
    }
   ],
   "source": [
    "nan_count = df['obj'].isna().sum()\n",
    "print(f\"NaN count in column 'obj': {nan_count}\")\n",
    "df.describe()"
   ]
  },
  {
   "cell_type": "markdown",
   "id": "80f4668e",
   "metadata": {
    "papermill": {
     "duration": null,
     "end_time": null,
     "exception": null,
     "start_time": null,
     "status": "pending"
    },
    "tags": []
   },
   "source": [
    "### slsqp"
   ]
  },
  {
   "cell_type": "code",
   "execution_count": 16,
   "id": "56a1ef0f",
   "metadata": {
    "papermill": {
     "duration": null,
     "end_time": null,
     "exception": null,
     "start_time": null,
     "status": "pending"
    },
    "tags": []
   },
   "outputs": [],
   "source": [
    "re_run = True\n",
    "re_run_save = True"
   ]
  },
  {
   "cell_type": "code",
   "execution_count": 17,
   "id": "64df3057",
   "metadata": {
    "papermill": {
     "duration": null,
     "end_time": null,
     "exception": null,
     "start_time": null,
     "status": "pending"
    },
    "tags": []
   },
   "outputs": [
    {
     "name": "stdout",
     "output_type": "stream",
     "text": [
      "obj =  1.2687995058116856e-16 , x =  [-4.00000007 -5.9999997 ]\n"
     ]
    },
    {
     "name": "stderr",
     "output_type": "stream",
     "text": [
      "C:\\Users\\Administrator\\AppData\\Local\\Temp\\ipykernel_11072\\667285963.py:32: DeprecationWarning: Use of `minimize` with `x0.ndim != 1` is deprecated. Currently, singleton dimensions will be removed from `x0`, but an error will be raised in SciPy 1.11.0.\n",
      "  result = minimize(objective, x0, method='slsqp', bounds=bd,constraints=cons)\n",
      "e:\\ProgramData\\miniconda3\\envs\\ASBO\\lib\\site-packages\\scipy\\optimize\\_constraints.py:447: OptimizeWarning: Constraint options `finite_diff_jac_sparsity`, `finite_diff_rel_step`, `keep_feasible`, and `hess`are ignored by this method.\n",
      "  warn(\"Constraint options `finite_diff_jac_sparsity`, \"\n"
     ]
    }
   ],
   "source": [
    "sol = 'slsqp'\n",
    "case_name = 'Case1'\n",
    "runs_number = 1\n",
    "\n",
    "initial_x1 = []\n",
    "initial_x2 = []\n",
    "x_1_list = []\n",
    "x_2_list = []\n",
    "obj_list = []\n",
    "con_1_list  = []\n",
    "con_2_list  = []\n",
    "con_3_list  = []\n",
    "\n",
    "nfev_r = []\n",
    "success_r = []\n",
    "message_r = []\n",
    "\n",
    "def func(x):\n",
    "    obj, c1, c2, c3 = Case1(x)\n",
    "    cons = [c1,c2,c3]\n",
    "    return obj,c1,c2,c3\n",
    "\n",
    "def recyc(x):\n",
    "    nc_lb = np.array([-1e6,-1e6,-1e6])\n",
    "    nc_ub = np.array([0,0,0])\n",
    "    cons = NonlinearConstraint(lambda x: func(x)[1:4], nc_lb, nc_ub, hess=SR1(), finite_diff_rel_step=0.001)\n",
    "    objective = lambda x: func(x)[0]\n",
    "    x0=x\n",
    "    lb = [-10,-15] \n",
    "    ub = [5,15] \n",
    "    bd = Bounds(lb, ub, True) \n",
    "    result = minimize(objective, x0, method='slsqp', bounds=bd,constraints=cons)\n",
    "    print('obj = ', result.fun, ', x = ', result.x)\n",
    "    obj_list.append(result.fun)\n",
    "    x_1_list.append(result.x[0])\n",
    "    x_2_list.append(result.x[1])\n",
    " \n",
    "    initial_x1.append(x[0][0])  \n",
    "    initial_x2.append(x[0][1])  \n",
    "    nfev_r.append(result.nfev)\n",
    "    success_r.append(str(result.success))\n",
    "    message_r.append(result.message)\n",
    "    df = pd.DataFrame({\n",
    "        'obj': obj_list,\n",
    "        'x_1': x_1_list,\n",
    "        'x_2': x_2_list,\n",
    "        'initial_x1': initial_x1,\n",
    "        'initial_x2': initial_x2, \n",
    "        'nfev': nfev_r,\n",
    "        'success': success_r,\n",
    "        'message': message_r,\n",
    "        })    \n",
    "    if re_run_save == True:\n",
    "        df.to_csv(DIR/f'{sol}_Results_{case_name}_{runs_number}.csv', index=False)\n",
    "    return result.x\n",
    "    \n",
    "def initial_random(lb=[-10,-15],ub=[5,15],a=2,n_size=runs_number):\n",
    "    bounds = np.array([lb,ub])\n",
    "    bounds = bounds.T\n",
    "    random_state = np.random.RandomState(a)\n",
    "    x_random = random_state.uniform(bounds[:, 0], bounds[:, 1],\n",
    "                                    size=(n_size, bounds.shape[0]))\n",
    "    return x_random\n",
    "\n",
    "if re_run == True or re_run_save == True:\n",
    "    x_random = initial_random(lb=[-10,-15],ub=[5,15])\n",
    "    from itertools import product\n",
    "    for combination in product(x_random):\n",
    "        recyc(combination)\n"
   ]
  },
  {
   "cell_type": "code",
   "execution_count": 18,
   "id": "89b252c5",
   "metadata": {
    "papermill": {
     "duration": null,
     "end_time": null,
     "exception": null,
     "start_time": null,
     "status": "pending"
    },
    "tags": []
   },
   "outputs": [
    {
     "name": "stdout",
     "output_type": "stream",
     "text": [
      "NaN count in column 'obj': 0\n"
     ]
    },
    {
     "data": {
      "text/html": [
       "<div>\n",
       "<style scoped>\n",
       "    .dataframe tbody tr th:only-of-type {\n",
       "        vertical-align: middle;\n",
       "    }\n",
       "\n",
       "    .dataframe tbody tr th {\n",
       "        vertical-align: top;\n",
       "    }\n",
       "\n",
       "    .dataframe thead th {\n",
       "        text-align: right;\n",
       "    }\n",
       "</style>\n",
       "<table border=\"1\" class=\"dataframe\">\n",
       "  <thead>\n",
       "    <tr style=\"text-align: right;\">\n",
       "      <th></th>\n",
       "      <th>obj</th>\n",
       "      <th>x_1</th>\n",
       "      <th>x_2</th>\n",
       "      <th>initial_x1</th>\n",
       "      <th>initial_x2</th>\n",
       "      <th>nfev</th>\n",
       "    </tr>\n",
       "  </thead>\n",
       "  <tbody>\n",
       "    <tr>\n",
       "      <th>count</th>\n",
       "      <td>1.000000e+00</td>\n",
       "      <td>1.0</td>\n",
       "      <td>1.0</td>\n",
       "      <td>1.000000</td>\n",
       "      <td>1.000000</td>\n",
       "      <td>1.0</td>\n",
       "    </tr>\n",
       "    <tr>\n",
       "      <th>mean</th>\n",
       "      <td>1.268800e-16</td>\n",
       "      <td>-4.0</td>\n",
       "      <td>-6.0</td>\n",
       "      <td>-3.460076</td>\n",
       "      <td>-14.222213</td>\n",
       "      <td>33.0</td>\n",
       "    </tr>\n",
       "    <tr>\n",
       "      <th>std</th>\n",
       "      <td>NaN</td>\n",
       "      <td>NaN</td>\n",
       "      <td>NaN</td>\n",
       "      <td>NaN</td>\n",
       "      <td>NaN</td>\n",
       "      <td>NaN</td>\n",
       "    </tr>\n",
       "    <tr>\n",
       "      <th>min</th>\n",
       "      <td>1.268800e-16</td>\n",
       "      <td>-4.0</td>\n",
       "      <td>-6.0</td>\n",
       "      <td>-3.460076</td>\n",
       "      <td>-14.222213</td>\n",
       "      <td>33.0</td>\n",
       "    </tr>\n",
       "    <tr>\n",
       "      <th>25%</th>\n",
       "      <td>1.268800e-16</td>\n",
       "      <td>-4.0</td>\n",
       "      <td>-6.0</td>\n",
       "      <td>-3.460076</td>\n",
       "      <td>-14.222213</td>\n",
       "      <td>33.0</td>\n",
       "    </tr>\n",
       "    <tr>\n",
       "      <th>50%</th>\n",
       "      <td>1.268800e-16</td>\n",
       "      <td>-4.0</td>\n",
       "      <td>-6.0</td>\n",
       "      <td>-3.460076</td>\n",
       "      <td>-14.222213</td>\n",
       "      <td>33.0</td>\n",
       "    </tr>\n",
       "    <tr>\n",
       "      <th>75%</th>\n",
       "      <td>1.268800e-16</td>\n",
       "      <td>-4.0</td>\n",
       "      <td>-6.0</td>\n",
       "      <td>-3.460076</td>\n",
       "      <td>-14.222213</td>\n",
       "      <td>33.0</td>\n",
       "    </tr>\n",
       "    <tr>\n",
       "      <th>max</th>\n",
       "      <td>1.268800e-16</td>\n",
       "      <td>-4.0</td>\n",
       "      <td>-6.0</td>\n",
       "      <td>-3.460076</td>\n",
       "      <td>-14.222213</td>\n",
       "      <td>33.0</td>\n",
       "    </tr>\n",
       "  </tbody>\n",
       "</table>\n",
       "</div>"
      ],
      "text/plain": [
       "                obj  x_1  x_2  initial_x1  initial_x2  nfev\n",
       "count  1.000000e+00  1.0  1.0    1.000000    1.000000   1.0\n",
       "mean   1.268800e-16 -4.0 -6.0   -3.460076  -14.222213  33.0\n",
       "std             NaN  NaN  NaN         NaN         NaN   NaN\n",
       "min    1.268800e-16 -4.0 -6.0   -3.460076  -14.222213  33.0\n",
       "25%    1.268800e-16 -4.0 -6.0   -3.460076  -14.222213  33.0\n",
       "50%    1.268800e-16 -4.0 -6.0   -3.460076  -14.222213  33.0\n",
       "75%    1.268800e-16 -4.0 -6.0   -3.460076  -14.222213  33.0\n",
       "max    1.268800e-16 -4.0 -6.0   -3.460076  -14.222213  33.0"
      ]
     },
     "execution_count": 18,
     "metadata": {},
     "output_type": "execute_result"
    }
   ],
   "source": [
    "df = pd.read_csv(DIR/f'{sol}_Results_{case_name}_{runs_number}.csv')\n",
    "nan_count = df['obj'].isna().sum()\n",
    "print(f\"NaN count in column 'obj': {nan_count}\")\n",
    "df.describe()"
   ]
  },
  {
   "cell_type": "markdown",
   "id": "fc58f4d8",
   "metadata": {
    "papermill": {
     "duration": null,
     "end_time": null,
     "exception": null,
     "start_time": null,
     "status": "pending"
    },
    "tags": []
   },
   "source": [
    "### CBO"
   ]
  },
  {
   "cell_type": "code",
   "execution_count": 19,
   "id": "f28dc753",
   "metadata": {
    "papermill": {
     "duration": null,
     "end_time": null,
     "exception": null,
     "start_time": null,
     "status": "pending"
    },
    "tags": []
   },
   "outputs": [],
   "source": [
    "re_run = True\n",
    "re_run_save = True"
   ]
  },
  {
   "cell_type": "code",
   "execution_count": 20,
   "id": "dc6ddec3",
   "metadata": {
    "papermill": {
     "duration": null,
     "end_time": null,
     "exception": null,
     "start_time": null,
     "status": "pending"
    },
    "tags": []
   },
   "outputs": [
    {
     "name": "stdout",
     "output_type": "stream",
     "text": [
      "{'target': -5.455644286023793e-07, 'params': {'x1': -4.010835022295992, 'x2': -6.004627867016621}, 'constraint': array([-12.98295782,  -6.99531343, -74.94580719])}\n"
     ]
    }
   ],
   "source": [
    "sol = 'CBO'\n",
    "case_name = 'Case1'\n",
    "runs_number = 1\n",
    "\n",
    "from bayes_opt import BayesianOptimization\n",
    "from bayes_opt import UtilityFunction\n",
    "\n",
    "obj_list = []\n",
    "x_1_list = []\n",
    "x_2_list = []\n",
    "con_1_list  = []\n",
    "con_2_list  = []\n",
    "con_3_list  = []\n",
    "\n",
    "def func_obj(x1,x2):\n",
    "    x = np.array([x1,x2])\n",
    "    obj, c1, c2, c3 = Case1(x)\n",
    "    cons = [c1,c2,c3]\n",
    "    # print(('cons, obj value=', cons, obj))\n",
    "    return -obj\n",
    "\n",
    "def func_cons(x1,x2):\n",
    "    x = np.array([x1,x2])\n",
    "    obj, c1, c2, c3 = Case1(x)\n",
    "    cons = [c1,c2,c3]\n",
    "    return cons\n",
    "\n",
    "nc_lb = np.array([-1e6,-1e6,-1e6])\n",
    "nc_ub = np.array([0,0,0])\n",
    "cons = NonlinearConstraint(func_cons, nc_lb, nc_ub)\n",
    "pbounds = {'x1': (-10, 5),'x2': (-15, 15)}\n",
    "acquisition_function = UtilityFunction(kind=\"ucb\", kappa=1)\n",
    "\n",
    "if re_run == True or re_run_save == True:\n",
    "    for i in range(runs_number):\n",
    "        optimizer = BayesianOptimization(f=func_obj, pbounds=pbounds,constraint=cons,verbose=0,random_state=i)\n",
    "        optimizer.maximize(init_points=50, n_iter=10,acquisition_function=acquisition_function)\n",
    "        print(optimizer.max)\n",
    "        obj_list.extend([optimizer.max['target']])\n",
    "        x_1_list.extend([optimizer.max['params']['x1']])\n",
    "        x_2_list.extend([optimizer.max['params']['x2']])\n",
    "        con_1_list.extend([optimizer.max['constraint'][0]])\n",
    "        con_2_list.extend([optimizer.max['constraint'][1]])\n",
    "        con_3_list.extend([optimizer.max['constraint'][2]])\n",
    "        df = pd.DataFrame({\n",
    "        'obj': obj_list,\n",
    "        'x_1': x_1_list,\n",
    "        'x_2': x_2_list,\n",
    "        'con_1': con_1_list,\n",
    "        'con_2': con_2_list,\n",
    "        'con_3': con_3_list\n",
    "        })\n",
    "        if re_run_save == True:\n",
    "            df.to_csv(DIR/f'{sol}_Results_{case_name}_{runs_number}.csv', index=False)\n"
   ]
  },
  {
   "cell_type": "code",
   "execution_count": 21,
   "id": "8629848e",
   "metadata": {
    "papermill": {
     "duration": null,
     "end_time": null,
     "exception": null,
     "start_time": null,
     "status": "pending"
    },
    "tags": []
   },
   "outputs": [
    {
     "name": "stdout",
     "output_type": "stream",
     "text": [
      "NaN count in column 'obj': 0\n"
     ]
    },
    {
     "data": {
      "text/html": [
       "<div>\n",
       "<style scoped>\n",
       "    .dataframe tbody tr th:only-of-type {\n",
       "        vertical-align: middle;\n",
       "    }\n",
       "\n",
       "    .dataframe tbody tr th {\n",
       "        vertical-align: top;\n",
       "    }\n",
       "\n",
       "    .dataframe thead th {\n",
       "        text-align: right;\n",
       "    }\n",
       "</style>\n",
       "<table border=\"1\" class=\"dataframe\">\n",
       "  <thead>\n",
       "    <tr style=\"text-align: right;\">\n",
       "      <th></th>\n",
       "      <th>obj</th>\n",
       "      <th>x_1</th>\n",
       "      <th>x_2</th>\n",
       "      <th>con_1</th>\n",
       "      <th>con_2</th>\n",
       "      <th>con_3</th>\n",
       "    </tr>\n",
       "  </thead>\n",
       "  <tbody>\n",
       "    <tr>\n",
       "      <th>count</th>\n",
       "      <td>1.000000e+00</td>\n",
       "      <td>1.000000</td>\n",
       "      <td>1.000000</td>\n",
       "      <td>1.000000</td>\n",
       "      <td>1.000000</td>\n",
       "      <td>1.000000</td>\n",
       "    </tr>\n",
       "    <tr>\n",
       "      <th>mean</th>\n",
       "      <td>-5.455644e-07</td>\n",
       "      <td>-4.010835</td>\n",
       "      <td>-6.004628</td>\n",
       "      <td>-12.982958</td>\n",
       "      <td>-6.995313</td>\n",
       "      <td>-74.945807</td>\n",
       "    </tr>\n",
       "    <tr>\n",
       "      <th>std</th>\n",
       "      <td>NaN</td>\n",
       "      <td>NaN</td>\n",
       "      <td>NaN</td>\n",
       "      <td>NaN</td>\n",
       "      <td>NaN</td>\n",
       "      <td>NaN</td>\n",
       "    </tr>\n",
       "    <tr>\n",
       "      <th>min</th>\n",
       "      <td>-5.455644e-07</td>\n",
       "      <td>-4.010835</td>\n",
       "      <td>-6.004628</td>\n",
       "      <td>-12.982958</td>\n",
       "      <td>-6.995313</td>\n",
       "      <td>-74.945807</td>\n",
       "    </tr>\n",
       "    <tr>\n",
       "      <th>25%</th>\n",
       "      <td>-5.455644e-07</td>\n",
       "      <td>-4.010835</td>\n",
       "      <td>-6.004628</td>\n",
       "      <td>-12.982958</td>\n",
       "      <td>-6.995313</td>\n",
       "      <td>-74.945807</td>\n",
       "    </tr>\n",
       "    <tr>\n",
       "      <th>50%</th>\n",
       "      <td>-5.455644e-07</td>\n",
       "      <td>-4.010835</td>\n",
       "      <td>-6.004628</td>\n",
       "      <td>-12.982958</td>\n",
       "      <td>-6.995313</td>\n",
       "      <td>-74.945807</td>\n",
       "    </tr>\n",
       "    <tr>\n",
       "      <th>75%</th>\n",
       "      <td>-5.455644e-07</td>\n",
       "      <td>-4.010835</td>\n",
       "      <td>-6.004628</td>\n",
       "      <td>-12.982958</td>\n",
       "      <td>-6.995313</td>\n",
       "      <td>-74.945807</td>\n",
       "    </tr>\n",
       "    <tr>\n",
       "      <th>max</th>\n",
       "      <td>-5.455644e-07</td>\n",
       "      <td>-4.010835</td>\n",
       "      <td>-6.004628</td>\n",
       "      <td>-12.982958</td>\n",
       "      <td>-6.995313</td>\n",
       "      <td>-74.945807</td>\n",
       "    </tr>\n",
       "  </tbody>\n",
       "</table>\n",
       "</div>"
      ],
      "text/plain": [
       "                obj       x_1       x_2      con_1     con_2      con_3\n",
       "count  1.000000e+00  1.000000  1.000000   1.000000  1.000000   1.000000\n",
       "mean  -5.455644e-07 -4.010835 -6.004628 -12.982958 -6.995313 -74.945807\n",
       "std             NaN       NaN       NaN        NaN       NaN        NaN\n",
       "min   -5.455644e-07 -4.010835 -6.004628 -12.982958 -6.995313 -74.945807\n",
       "25%   -5.455644e-07 -4.010835 -6.004628 -12.982958 -6.995313 -74.945807\n",
       "50%   -5.455644e-07 -4.010835 -6.004628 -12.982958 -6.995313 -74.945807\n",
       "75%   -5.455644e-07 -4.010835 -6.004628 -12.982958 -6.995313 -74.945807\n",
       "max   -5.455644e-07 -4.010835 -6.004628 -12.982958 -6.995313 -74.945807"
      ]
     },
     "execution_count": 21,
     "metadata": {},
     "output_type": "execute_result"
    }
   ],
   "source": [
    "nan_count = df['obj'].isna().sum()\n",
    "print(f\"NaN count in column 'obj': {nan_count}\")\n",
    "df.describe()"
   ]
  },
  {
   "cell_type": "markdown",
   "id": "fe39b1bd",
   "metadata": {
    "papermill": {
     "duration": null,
     "end_time": null,
     "exception": null,
     "start_time": null,
     "status": "pending"
    },
    "tags": []
   },
   "source": [
    "### TuRBO"
   ]
  },
  {
   "cell_type": "code",
   "execution_count": 33,
   "id": "335be6ea",
   "metadata": {
    "papermill": {
     "duration": null,
     "end_time": null,
     "exception": null,
     "start_time": null,
     "status": "pending"
    },
    "tags": []
   },
   "outputs": [],
   "source": [
    "re_run = True\n",
    "re_run_save = True"
   ]
  },
  {
   "cell_type": "code",
   "execution_count": 39,
   "id": "df19e415",
   "metadata": {
    "papermill": {
     "duration": null,
     "end_time": null,
     "exception": null,
     "start_time": null,
     "status": "pending"
    },
    "tags": []
   },
   "outputs": [
    {
     "name": "stdout",
     "output_type": "stream",
     "text": [
      "obj=  -1.0324961858481233e-05  x =  tensor([0.4030, 0.3011], dtype=torch.float64)\n"
     ]
    }
   ],
   "source": [
    "sol = 'TuRBO'\n",
    "case_name = 'Case1'\n",
    "\n",
    "temp_y = []\n",
    "temp_x = []\n",
    "x_1_list = []\n",
    "x_2_list = []\n",
    "iterations = []\n",
    "max_values = []\n",
    "\n",
    "runs_number = 1\n",
    "itera = 0\n",
    "import gpytorch\n",
    "import torch\n",
    "import tr_bo\n",
    "from torch.quasirandom import SobolEngine\n",
    "from botorch.utils.transforms import unnormalize\n",
    "from botorch.models.model_list_gp_regression import ModelListGP\n",
    "\n",
    "def func(x):\n",
    "    global itera\n",
    "    obj, c1, c2, c3 = Case1(x)\n",
    "    cons = [c1,c2,c3]\n",
    "    itera=itera+1\n",
    "    return -obj,c1,c2,c3\n",
    "\n",
    "device = torch.device(\"cuda\" if torch.cuda.is_available() else \"cpu\")\n",
    "dtype = torch.double\n",
    "dim = 2\n",
    "batch_size = 1\n",
    "n_init = 50 \n",
    "max_cholesky_size = float(\"inf\")  # Always use Cholesky\n",
    "\n",
    "lb = torch.tensor([-1e6, -1e6, -1e6, ], dtype=torch.float64)\n",
    "ub =  torch.tensor([0, 0,0 ], dtype=torch.float64)\n",
    "bounds = torch.tensor([[-10, -15,], [5, 15]])\n",
    "\n",
    "def objective(x):\n",
    "    res = func(x)\n",
    "    target = res[0]\n",
    "    c1 = res[1]\n",
    "    c2 = res[2]\n",
    "    c3 = res[3]\n",
    "    return target,c1,c2,c3\n",
    "\n",
    "def run_multiple_calculations(num_runs):\n",
    "    for random_seed in range(num_runs):\n",
    "        try:\n",
    "            def eval_objective(x):\n",
    "                return objective(unnormalize(x, bounds))\n",
    "            # Initialize TuRBO state\n",
    "            state = tr_bo.ScboState(dim, batch_size=batch_size)\n",
    "            sobol = SobolEngine(dim, scramble=True, seed=1)\n",
    "\n",
    "            # Get initial data\n",
    "            # Must get initial values for both objective and constraints\n",
    "            train_X = tr_bo.get_initial_points(dim, n_init,seed=random_seed)\n",
    "\n",
    "            train_Y_tensor_list = []\n",
    "            C1_tensor_list = []\n",
    "            C2_tensor_list = []\n",
    "            C3_tensor_list = []\n",
    "\n",
    "            for x in train_X:\n",
    "                result = eval_objective(x)\n",
    "                combined_tensor = torch.tensor(result, dtype=dtype, device=device).unsqueeze(-1)\n",
    "                train_Y, C1, C2,C3 = combined_tensor[0], combined_tensor[1], combined_tensor[2],combined_tensor[3], \n",
    "                train_Y_tensor_list.append(train_Y)\n",
    "                C1_tensor_list.append(C1)\n",
    "                C2_tensor_list.append(C2)\n",
    "                C3_tensor_list.append(C3)\n",
    "\n",
    "            train_Y = torch.stack(train_Y_tensor_list, dim=0)\n",
    "            C1 = torch.stack(C1_tensor_list, dim=0)\n",
    "            C2 = torch.stack(C2_tensor_list, dim=0)\n",
    "            C3 = torch.stack(C3_tensor_list, dim=0)\n",
    "\n",
    "            while not state.restart_triggered:  # Run until TuRBO converges\n",
    "                # Fit GP models for objective and constraints\n",
    "                model = tr_bo.get_fitted_model(train_X, train_Y,dim)\n",
    "                c1_model = tr_bo.get_fitted_model(train_X, C1,dim)\n",
    "                c2_model = tr_bo.get_fitted_model(train_X, C2,dim)\n",
    "                c3_model = tr_bo.get_fitted_model(train_X, C3,dim)\n",
    "                # Generate a batch of candidates\n",
    "                with gpytorch.settings.max_cholesky_size(max_cholesky_size):\n",
    "                    X_next = tr_bo.generate_batch(\n",
    "                        state=state,\n",
    "                        model=model,\n",
    "                        X=train_X,\n",
    "                        Y=train_Y,\n",
    "                        batch_size=batch_size,\n",
    "                        n_candidates=2000,\n",
    "                        constraint_model=ModelListGP(c1_model, c2_model,c3_model),\n",
    "                        sobol=sobol,\n",
    "                    )\n",
    "\n",
    "                Y_next_tensor_list = []\n",
    "                C1_next_tensor_list = []\n",
    "                C2_next_tensor_list = []\n",
    "                C3_next_tensor_list = []\n",
    "\n",
    "                for x in X_next:\n",
    "                    result = eval_objective(x)\n",
    "                    combined_tensor = torch.tensor(result, dtype=dtype, device=device).unsqueeze(-1)\n",
    "                    Y_next, C1_next, C2_next, C3_next, = combined_tensor[0], combined_tensor[1], combined_tensor[2],combined_tensor[3],  \n",
    "                    Y_next_tensor_list.append(Y_next)\n",
    "                    C1_next_tensor_list.append(C1_next)\n",
    "                    C2_next_tensor_list.append(C2_next)\n",
    "                    C3_next_tensor_list.append(C3_next)\n",
    "\n",
    "                Y_next = torch.stack(Y_next_tensor_list, dim=0)\n",
    "                C1_next = torch.stack(C1_next_tensor_list, dim=0)\n",
    "                C2_next = torch.stack(C2_next_tensor_list, dim=0)\n",
    "                C3_next = torch.stack(C3_next_tensor_list, dim=0)\n",
    "\n",
    "                C_next = torch.cat([C1_next, C2_next,C3_next], dim=-1)\n",
    "                state = tr_bo.update_state(state, Y_next, C_next,ub,lb)\n",
    "                train_X = torch.cat((train_X, X_next), dim=0)\n",
    "                train_Y = torch.cat((train_Y, Y_next), dim=0)\n",
    "                C1 = torch.cat((C1, C1_next), dim=0)\n",
    "                C2 = torch.cat((C2, C2_next), dim=0)\n",
    "                C3 = torch.cat((C3, C3_next), dim=0)\n",
    "                C = torch.cat([C1, C2, C3], dim=-1)\n",
    "                bool_tensor = (C >= lb.repeat(len(C), 1)) & (C <= ub.repeat(len(C), 1))\n",
    "                bool_tensor = torch.all(bool_tensor, dim=-1)\n",
    "                Valid_Y = train_Y[bool_tensor]\n",
    "                Valid_X = train_X[bool_tensor]\n",
    "                if len(Valid_Y)==0:\n",
    "                    break\n",
    "                else:\n",
    "                    max_index = torch.argmax(Valid_Y)  \n",
    "                    max_y = Valid_Y[max_index]         \n",
    "                    corresponding_x = Valid_X[max_index]\n",
    "                    temp_y.append(max_y)\n",
    "                    temp_x.append(corresponding_x)\n",
    "                    # list_realvalue.append(max(Valid_Y[0]))   # Wrong version\n",
    "                if len(temp_y) == 10:\n",
    "                    max_value = max(temp_y).item()\n",
    "                    temp_y_np = np.array([t.item() for t in temp_y])\n",
    "                    max_index = np.argmax(temp_y_np)\n",
    "                    # max_index = np.argmax(temp_y)\n",
    "                    c_x = temp_x[max_index]\n",
    "                    print(\"obj= \",max_value, ' x = ', c_x)\n",
    "                    max_values.append(max_value)\n",
    "                    x_1_list.append(c_x[0].item())\n",
    "                    x_2_list.append(c_x[1].item())\n",
    "                    if len(iterations)==0:\n",
    "                        iterations.append(itera)\n",
    "                    else:\n",
    "                        iterations.append(itera-sum(iterations))\n",
    "                    temp_y.clear()\n",
    "                    temp_x.clear()\n",
    "\n",
    "                    df = pd.DataFrame({\n",
    "                    'obj': max_values,\n",
    "                    'x_1': x_1_list,\n",
    "                    'x_2': x_2_list,\n",
    "                    'iterations': iterations\n",
    "                    })\n",
    "                    if re_run_save == True:\n",
    "                        df.to_csv(DIR/f'{sol}_Results_{case_name}_{runs_number}.csv', index=False)\n",
    "                    break\n",
    "\n",
    "        except Exception as e:\n",
    "            print(e)\n",
    "            if len(temp_y)==0:\n",
    "                print(\"Early stop and no feasible solutions\")\n",
    "                max_values.append(None)\n",
    "                x_1_list.append(None)\n",
    "                x_2_list.append(None)\n",
    "            else:\n",
    "                max_value = max(temp_y).item()\n",
    "                temp_y_np = np.array([t.item() for t in temp_y])\n",
    "                max_index = np.argmax(temp_y_np)\n",
    "                # max_index = np.argmax(temp_y)\n",
    "                c_x = temp_x[max_index]\n",
    "                print(\"Early stop and feasible\")\n",
    "                print(\"obj= \",max_value, ' x = ', c_x)\n",
    "                \n",
    "                max_values.append(max_value)\n",
    "                x_1_list.append(c_x[0].item())\n",
    "                x_2_list.append(c_x[1].item())\n",
    "            if len(iterations)==0:\n",
    "                iterations.append(itera)\n",
    "            else:\n",
    "                iterations.append(itera-sum(iterations))\n",
    "            temp_y.clear()\n",
    "            temp_x.clear()\n",
    "\n",
    "            df = pd.DataFrame({\n",
    "            'obj': max_values,\n",
    "            'x_1': x_1_list,\n",
    "            'x_2': x_2_list,\n",
    "            'iterations': iterations\n",
    "            })\n",
    "            if re_run_save == True:\n",
    "                df.to_csv(DIR/f'{sol}_Results_{case_name}_{runs_number}.csv', index=False)\n",
    "\n",
    "run_multiple_calculations(num_runs=runs_number)"
   ]
  },
  {
   "cell_type": "code",
   "execution_count": null,
   "id": "f1f8cc78",
   "metadata": {
    "papermill": {
     "duration": null,
     "end_time": null,
     "exception": null,
     "start_time": null,
     "status": "pending"
    },
    "tags": []
   },
   "outputs": [],
   "source": [
    "df = pd.read_csv(DIR/f'{sol}_Results_{case_name}_{runs_number}.csv')\n",
    "nan_count = df['obj'].isna().sum()\n",
    "print(f\"NaN count in column 'obj': {nan_count}\")\n",
    "df.describe()"
   ]
  },
  {
   "cell_type": "markdown",
   "id": "84d37263",
   "metadata": {
    "papermill": {
     "duration": null,
     "end_time": null,
     "exception": null,
     "start_time": null,
     "status": "pending"
    },
    "tags": []
   },
   "source": [
    "### PSO"
   ]
  },
  {
   "cell_type": "code",
   "execution_count": 24,
   "id": "fb9bb3f7",
   "metadata": {
    "papermill": {
     "duration": null,
     "end_time": null,
     "exception": null,
     "start_time": null,
     "status": "pending"
    },
    "tags": []
   },
   "outputs": [],
   "source": [
    "re_run = True\n",
    "re_run_save = True"
   ]
  },
  {
   "cell_type": "code",
   "execution_count": 25,
   "id": "6c976c25",
   "metadata": {
    "papermill": {
     "duration": null,
     "end_time": null,
     "exception": null,
     "start_time": null,
     "status": "pending"
    },
    "tags": []
   },
   "outputs": [
    {
     "name": "stdout",
     "output_type": "stream",
     "text": [
      "Stopping search: maximum iterations reached --> 10\n",
      "fopt = 2.809521823660619e-06 xopt =  [-3.97526046 -5.99103395]\n"
     ]
    }
   ],
   "source": [
    "sol = 'PSO'\n",
    "case_name = 'Case1'\n",
    "\n",
    "x_1_list = []\n",
    "x_2_list = []\n",
    "obj_list = []\n",
    "iterations=[]\n",
    "\n",
    "runs_number = 1\n",
    "itera = 0\n",
    "from pyswarm import pso\n",
    "\n",
    "def func(x):\n",
    "    global itera\n",
    "    obj, c1, c2, c3 = Case1(x)\n",
    "    cons = [-c1,-c2,-c3]\n",
    "    global x_p\n",
    "    try:\n",
    "        equal = np.array_equal(x,x_p)\n",
    "        if not equal:\n",
    "            itera=itera+1\n",
    "    except:\n",
    "        itera=itera+1\n",
    "    x_p =x\n",
    "    return obj,cons\n",
    "\n",
    "lb=[-10,-15]\n",
    "ub=[5,15]\n",
    "if re_run == True or re_run_save == True:\n",
    "    for num in range(runs_number):\n",
    "        xopt, fopt = pso(lambda x:func(x)[0], lb, ub,f_ieqcons=lambda x:func(x)[1:2], swarmsize=50, omega=0.5, phip=0.5, phig=0.5, maxiter=10, minstep=1e-8,minfunc=1e-8, debug=False)\n",
    "        print( 'fopt =', fopt, 'xopt = ', xopt)\n",
    "        if len(iterations)==0:\n",
    "            iterations.append(itera)\n",
    "        else:\n",
    "            iterations.append(itera-sum(iterations))\n",
    "        obj_list.append(fopt)\n",
    "        x_1_list.append(xopt[0])\n",
    "        x_2_list.append(xopt[1])\n",
    "\n",
    "        df = pd.DataFrame({\n",
    "        'obj': obj_list,\n",
    "        'x_1': x_1_list,\n",
    "        'x_2': x_2_list,\n",
    "        'iterations': iterations\n",
    "        })\n",
    "        if re_run_save == True:\n",
    "            df.to_csv(DIR/f'{sol}_Results_{case_name}_{runs_number}.csv', index=False)\n"
   ]
  },
  {
   "cell_type": "code",
   "execution_count": 26,
   "id": "214600f7",
   "metadata": {
    "papermill": {
     "duration": null,
     "end_time": null,
     "exception": null,
     "start_time": null,
     "status": "pending"
    },
    "tags": []
   },
   "outputs": [
    {
     "name": "stdout",
     "output_type": "stream",
     "text": [
      "NaN count in column 'obj': 0\n"
     ]
    },
    {
     "data": {
      "text/html": [
       "<div>\n",
       "<style scoped>\n",
       "    .dataframe tbody tr th:only-of-type {\n",
       "        vertical-align: middle;\n",
       "    }\n",
       "\n",
       "    .dataframe tbody tr th {\n",
       "        vertical-align: top;\n",
       "    }\n",
       "\n",
       "    .dataframe thead th {\n",
       "        text-align: right;\n",
       "    }\n",
       "</style>\n",
       "<table border=\"1\" class=\"dataframe\">\n",
       "  <thead>\n",
       "    <tr style=\"text-align: right;\">\n",
       "      <th></th>\n",
       "      <th>obj</th>\n",
       "      <th>x_1</th>\n",
       "      <th>x_2</th>\n",
       "      <th>iterations</th>\n",
       "    </tr>\n",
       "  </thead>\n",
       "  <tbody>\n",
       "    <tr>\n",
       "      <th>count</th>\n",
       "      <td>1.000000</td>\n",
       "      <td>1.00000</td>\n",
       "      <td>1.000000</td>\n",
       "      <td>1.0</td>\n",
       "    </tr>\n",
       "    <tr>\n",
       "      <th>mean</th>\n",
       "      <td>0.000003</td>\n",
       "      <td>-3.97526</td>\n",
       "      <td>-5.991034</td>\n",
       "      <td>551.0</td>\n",
       "    </tr>\n",
       "    <tr>\n",
       "      <th>std</th>\n",
       "      <td>NaN</td>\n",
       "      <td>NaN</td>\n",
       "      <td>NaN</td>\n",
       "      <td>NaN</td>\n",
       "    </tr>\n",
       "    <tr>\n",
       "      <th>min</th>\n",
       "      <td>0.000003</td>\n",
       "      <td>-3.97526</td>\n",
       "      <td>-5.991034</td>\n",
       "      <td>551.0</td>\n",
       "    </tr>\n",
       "    <tr>\n",
       "      <th>25%</th>\n",
       "      <td>0.000003</td>\n",
       "      <td>-3.97526</td>\n",
       "      <td>-5.991034</td>\n",
       "      <td>551.0</td>\n",
       "    </tr>\n",
       "    <tr>\n",
       "      <th>50%</th>\n",
       "      <td>0.000003</td>\n",
       "      <td>-3.97526</td>\n",
       "      <td>-5.991034</td>\n",
       "      <td>551.0</td>\n",
       "    </tr>\n",
       "    <tr>\n",
       "      <th>75%</th>\n",
       "      <td>0.000003</td>\n",
       "      <td>-3.97526</td>\n",
       "      <td>-5.991034</td>\n",
       "      <td>551.0</td>\n",
       "    </tr>\n",
       "    <tr>\n",
       "      <th>max</th>\n",
       "      <td>0.000003</td>\n",
       "      <td>-3.97526</td>\n",
       "      <td>-5.991034</td>\n",
       "      <td>551.0</td>\n",
       "    </tr>\n",
       "  </tbody>\n",
       "</table>\n",
       "</div>"
      ],
      "text/plain": [
       "            obj      x_1       x_2  iterations\n",
       "count  1.000000  1.00000  1.000000         1.0\n",
       "mean   0.000003 -3.97526 -5.991034       551.0\n",
       "std         NaN      NaN       NaN         NaN\n",
       "min    0.000003 -3.97526 -5.991034       551.0\n",
       "25%    0.000003 -3.97526 -5.991034       551.0\n",
       "50%    0.000003 -3.97526 -5.991034       551.0\n",
       "75%    0.000003 -3.97526 -5.991034       551.0\n",
       "max    0.000003 -3.97526 -5.991034       551.0"
      ]
     },
     "execution_count": 26,
     "metadata": {},
     "output_type": "execute_result"
    }
   ],
   "source": [
    "nan_count = df['obj'].isna().sum()\n",
    "print(f\"NaN count in column 'obj': {nan_count}\")\n",
    "df.describe()"
   ]
  },
  {
   "cell_type": "markdown",
   "id": "c9ce4904",
   "metadata": {
    "papermill": {
     "duration": null,
     "end_time": null,
     "exception": null,
     "start_time": null,
     "status": "pending"
    },
    "tags": []
   },
   "source": [
    "### GA"
   ]
  },
  {
   "cell_type": "code",
   "execution_count": 27,
   "id": "e349743f",
   "metadata": {
    "papermill": {
     "duration": null,
     "end_time": null,
     "exception": null,
     "start_time": null,
     "status": "pending"
    },
    "tags": []
   },
   "outputs": [],
   "source": [
    "re_run = True\n",
    "re_run_save = True"
   ]
  },
  {
   "cell_type": "code",
   "execution_count": 29,
   "id": "07ff3214",
   "metadata": {
    "papermill": {
     "duration": null,
     "end_time": null,
     "exception": null,
     "start_time": null,
     "status": "pending"
    },
    "tags": []
   },
   "outputs": [
    {
     "name": "stdout",
     "output_type": "stream",
     "text": [
      "obj = [0.00028047] x =  [-4.13729882 -6.42073233]\n"
     ]
    }
   ],
   "source": [
    "sol = 'GA'\n",
    "case_name = 'Case1'\n",
    "\n",
    "x_1_list = []\n",
    "x_2_list = []\n",
    "obj_list = []\n",
    "iterations=[]\n",
    "\n",
    "runs_number = 1\n",
    "itera = 0\n",
    "from sko.GA import GA\n",
    "from sko.operators import crossover\n",
    "\n",
    "def func(x):\n",
    "    global itera\n",
    "    obj, c1, c2, c3 = Case1(x)\n",
    "    cons = [c1,c2,c3]\n",
    "    itera=itera+1\n",
    "    return obj,c1,c2,c3\n",
    "\n",
    "lb=[-10,-15]\n",
    "ub=[5,15]\n",
    "if re_run == True or re_run_save == True:\n",
    "    for num in range(runs_number):\n",
    "        ga = GA(func=lambda x:func(x)[0], n_dim=2, size_pop=50, max_iter=10, lb =[-10,-15],ub=[5,15], precision=1e-7,prob_mut = 0.001, constraint_ueq=[lambda x:func(x)[1],lambda x:func(x)[2],lambda x:func(x)[3]])\n",
    "        ga.register(operator_name='crossover', operator=crossover.crossover_2point_prob, crossover_prob=0.5)\n",
    "        best_x, best_y = ga.run()\n",
    "        print( 'obj =', best_y, 'x = ', best_x)\n",
    "\n",
    "        if len(iterations)==0:\n",
    "            iterations.append(itera)\n",
    "        else:\n",
    "            iterations.append(itera-sum(iterations))\n",
    "        obj_list.append(best_y[0])\n",
    "        x_1_list.append(best_x[0])\n",
    "        x_2_list.append(best_x[1])\n",
    "\n",
    "        df = pd.DataFrame({\n",
    "        'obj': obj_list,\n",
    "        'x_1': x_1_list,\n",
    "        'x_2': x_2_list,\n",
    "        'iterations': iterations\n",
    "        })\n",
    "        if re_run_save == True:\n",
    "            df.to_csv(DIR/f'{sol}_Results_{case_name}_{runs_number}.csv', index=False)\n"
   ]
  },
  {
   "cell_type": "code",
   "execution_count": 30,
   "id": "244b1b1f",
   "metadata": {
    "papermill": {
     "duration": null,
     "end_time": null,
     "exception": null,
     "start_time": null,
     "status": "pending"
    },
    "tags": []
   },
   "outputs": [
    {
     "name": "stdout",
     "output_type": "stream",
     "text": [
      "NaN count in column 'obj': 0\n"
     ]
    },
    {
     "data": {
      "text/html": [
       "<div>\n",
       "<style scoped>\n",
       "    .dataframe tbody tr th:only-of-type {\n",
       "        vertical-align: middle;\n",
       "    }\n",
       "\n",
       "    .dataframe tbody tr th {\n",
       "        vertical-align: top;\n",
       "    }\n",
       "\n",
       "    .dataframe thead th {\n",
       "        text-align: right;\n",
       "    }\n",
       "</style>\n",
       "<table border=\"1\" class=\"dataframe\">\n",
       "  <thead>\n",
       "    <tr style=\"text-align: right;\">\n",
       "      <th></th>\n",
       "      <th>obj</th>\n",
       "      <th>x_1</th>\n",
       "      <th>x_2</th>\n",
       "      <th>iterations</th>\n",
       "    </tr>\n",
       "  </thead>\n",
       "  <tbody>\n",
       "    <tr>\n",
       "      <th>count</th>\n",
       "      <td>1.00000</td>\n",
       "      <td>1.000000</td>\n",
       "      <td>1.000000</td>\n",
       "      <td>1.0</td>\n",
       "    </tr>\n",
       "    <tr>\n",
       "      <th>mean</th>\n",
       "      <td>0.00028</td>\n",
       "      <td>-4.137299</td>\n",
       "      <td>-6.420732</td>\n",
       "      <td>2001.0</td>\n",
       "    </tr>\n",
       "    <tr>\n",
       "      <th>std</th>\n",
       "      <td>NaN</td>\n",
       "      <td>NaN</td>\n",
       "      <td>NaN</td>\n",
       "      <td>NaN</td>\n",
       "    </tr>\n",
       "    <tr>\n",
       "      <th>min</th>\n",
       "      <td>0.00028</td>\n",
       "      <td>-4.137299</td>\n",
       "      <td>-6.420732</td>\n",
       "      <td>2001.0</td>\n",
       "    </tr>\n",
       "    <tr>\n",
       "      <th>25%</th>\n",
       "      <td>0.00028</td>\n",
       "      <td>-4.137299</td>\n",
       "      <td>-6.420732</td>\n",
       "      <td>2001.0</td>\n",
       "    </tr>\n",
       "    <tr>\n",
       "      <th>50%</th>\n",
       "      <td>0.00028</td>\n",
       "      <td>-4.137299</td>\n",
       "      <td>-6.420732</td>\n",
       "      <td>2001.0</td>\n",
       "    </tr>\n",
       "    <tr>\n",
       "      <th>75%</th>\n",
       "      <td>0.00028</td>\n",
       "      <td>-4.137299</td>\n",
       "      <td>-6.420732</td>\n",
       "      <td>2001.0</td>\n",
       "    </tr>\n",
       "    <tr>\n",
       "      <th>max</th>\n",
       "      <td>0.00028</td>\n",
       "      <td>-4.137299</td>\n",
       "      <td>-6.420732</td>\n",
       "      <td>2001.0</td>\n",
       "    </tr>\n",
       "  </tbody>\n",
       "</table>\n",
       "</div>"
      ],
      "text/plain": [
       "           obj       x_1       x_2  iterations\n",
       "count  1.00000  1.000000  1.000000         1.0\n",
       "mean   0.00028 -4.137299 -6.420732      2001.0\n",
       "std        NaN       NaN       NaN         NaN\n",
       "min    0.00028 -4.137299 -6.420732      2001.0\n",
       "25%    0.00028 -4.137299 -6.420732      2001.0\n",
       "50%    0.00028 -4.137299 -6.420732      2001.0\n",
       "75%    0.00028 -4.137299 -6.420732      2001.0\n",
       "max    0.00028 -4.137299 -6.420732      2001.0"
      ]
     },
     "execution_count": 30,
     "metadata": {},
     "output_type": "execute_result"
    }
   ],
   "source": [
    "nan_count = df['obj'].isna().sum()\n",
    "print(f\"NaN count in column 'obj': {nan_count}\")\n",
    "df.describe()"
   ]
  }
 ],
 "metadata": {
  "kernelspec": {
   "display_name": "ASBO",
   "language": "python",
   "name": "python3"
  },
  "language_info": {
   "codemirror_mode": {
    "name": "ipython",
    "version": 3
   },
   "file_extension": ".py",
   "mimetype": "text/x-python",
   "name": "python",
   "nbconvert_exporter": "python",
   "pygments_lexer": "ipython3",
   "version": "3.8.3"
  },
  "papermill": {
   "default_parameters": {},
   "duration": 4.867003,
   "end_time": "2024-10-21T14:26:23.639464",
   "environment_variables": {},
   "exception": true,
   "input_path": "D:\\OneDrive\\Current\\2_Codes\\BO_Related\\ASBO\\ASBO\\scripts\\Case 1.ipynb",
   "output_path": "D:\\OneDrive\\Current\\2_Codes\\BO_Related\\ASBO\\ASBO\\scripts\\Case 1.ipynb",
   "parameters": {},
   "start_time": "2024-10-21T14:26:18.772461",
   "version": "2.6.0"
  }
 },
 "nbformat": 4,
 "nbformat_minor": 5
}
